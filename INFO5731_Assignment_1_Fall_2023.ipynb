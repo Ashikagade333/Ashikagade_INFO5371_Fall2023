{
  "cells": [
    {
      "cell_type": "markdown",
      "metadata": {
        "id": "view-in-github",
        "colab_type": "text"
      },
      "source": [
        "<a href=\"https://colab.research.google.com/github/Ashikagade333/Ashikagade_INFO5371_Fall2023/blob/main/INFO5731_Assignment_1_Fall_2023.ipynb\" target=\"_parent\"><img src=\"https://colab.research.google.com/assets/colab-badge.svg\" alt=\"Open In Colab\"/></a>"
      ]
    },
    {
      "cell_type": "markdown",
      "metadata": {
        "id": "Ryk8D1Q4Wsrp"
      },
      "source": [
        "# **INFO5731 Assignment One**"
      ]
    },
    {
      "cell_type": "markdown",
      "metadata": {
        "id": "90_NR8c5XGWc"
      },
      "source": [
        "# Question 1\n",
        "\n",
        "(20 points). Write a Python program to generate 12 random numbers between 1 and 100. Sort the list of numbers in ascending order and print it out. Sort the list of numbers in descending order and print it out. Calculate the average for the group and print it out."
      ]
    },
    {
      "cell_type": "code",
      "execution_count": 1,
      "metadata": {
        "id": "5QX6bJjGWXY9",
        "colab": {
          "base_uri": "https://localhost:8080/"
        },
        "outputId": "06cd77cf-9ec9-4bf9-ee6a-a0e5ddafe6a2"
      },
      "outputs": [
        {
          "output_type": "stream",
          "name": "stdout",
          "text": [
            "Random Numbers: [40, 93, 100, 18, 12, 91, 58, 59, 50, 81, 22, 81]\n",
            "Ascending Sorted Numbers: [12, 18, 22, 40, 50, 58, 59, 81, 81, 91, 93, 100]\n",
            "Descending Sorted Numbers: [100, 93, 91, 81, 81, 59, 58, 50, 40, 22, 18, 12]\n",
            "Average: 58.75\n"
          ]
        }
      ],
      "source": [
        "# Your code here\n",
        "\n",
        "import random\n",
        "\n",
        "# Generate 12 random numbers between 1 and 100\n",
        "random_numbers = [random.randint(1, 100) for _ in range(12)]\n",
        "\n",
        "# Sort the list in ascending order\n",
        "ascending_sorted = sorted(random_numbers)\n",
        "\n",
        "# Sort the list in descending order\n",
        "descending_sorted = sorted(random_numbers, reverse=True)\n",
        "\n",
        "# Calculate the average\n",
        "average = sum(random_numbers) / len(random_numbers)\n",
        "\n",
        "# Print the results\n",
        "print(\"Random Numbers:\", random_numbers)\n",
        "print(\"Ascending Sorted Numbers:\", ascending_sorted)\n",
        "print(\"Descending Sorted Numbers:\", descending_sorted)\n",
        "print(\"Average:\", average)"
      ]
    },
    {
      "cell_type": "markdown",
      "metadata": {
        "id": "1F_PZdH9Sh49"
      },
      "source": [
        "# Question 2\n",
        "(25 points).\n",
        "\n",
        "Write a program that will do the following string formatting tasks:\n",
        "\n",
        "(1) Ask the user to enter two sentences.\n",
        "\n",
        "(2) Make each sentence into a list. Each element in the list should correspond to a word in the sentence. For example, if the sentence is \"Alas! Am I alive? This is my first python program\", the program should print out ['Alas, '!', 'Am', 'I', 'alive, '?', 'This', 'is', 'my', 'first', 'python', 'program'].\n",
        "\n",
        "(3) Compare the two sentences. Print out a list of words that occur in both sentences.\n",
        "\n",
        "(4) Remove any punctuation from the sentence and print it back out. It should remove at least the following characters, but it can remove more: period(“.”), comma (“,”), semicolon (“;”), and colon (“:”)\n",
        "\n",
        "(5) Count the number of vowels in the sentences. Print out each vowel and the number of times it appears in the sentences, such as: a:2, e:1, i:0, etc"
      ]
    },
    {
      "cell_type": "code",
      "execution_count": 6,
      "metadata": {
        "id": "Y0oOSlsOS0cq",
        "colab": {
          "base_uri": "https://localhost:8080/"
        },
        "outputId": "c8644562-d0d6-40d4-beee-50f30aa08ca4"
      },
      "outputs": [
        {
          "output_type": "stream",
          "name": "stdout",
          "text": [
            "Enter the first sentence: enter the first sentence .\n",
            "Enter the second sentence: enter the second sentence .\n",
            "Sentence 1 as a list: ['enter', 'the', 'first', 'sentence', '.']\n",
            "Sentence 2 as a list: ['enter', 'the', 'second', 'sentence', '.']\n",
            "Common words: {'.', 'sentence', 'enter', 'the'}\n",
            "Sentence 1 without punctuation: enter the first sentence \n",
            "Sentence 2 without punctuation: enter the second sentence \n",
            "Vowel counts in Sentence 1: {'a': 0, 'e': 6, 'i': 1, 'o': 0, 'u': 0, 'A': 0, 'E': 0, 'I': 0, 'O': 0, 'U': 0}\n",
            "Vowel counts in Sentence 2: {'a': 0, 'e': 7, 'i': 0, 'o': 1, 'u': 0, 'A': 0, 'E': 0, 'I': 0, 'O': 0, 'U': 0}\n"
          ]
        }
      ],
      "source": [
        "# Your code here\n",
        "import string\n",
        "\n",
        "# Step 1: Ask the user to enter two sentences\n",
        "sentence1 = input(\"Enter the first sentence: \")\n",
        "sentence2 = input(\"Enter the second sentence: \")\n",
        "\n",
        "# Step 2: Make each sentence into a list of words\n",
        "def tokenize(sentence):\n",
        "    words = []\n",
        "    word = ''\n",
        "    for char in sentence:\n",
        "        if char.isalnum() or char in string.punctuation:\n",
        "            word += char\n",
        "        else:\n",
        "            if word:\n",
        "                words.append(word)\n",
        "            if char != ' ':\n",
        "                words.append(char)\n",
        "            word = ''\n",
        "    if word:\n",
        "        words.append(word)\n",
        "    return words\n",
        "\n",
        "sentence1_words = tokenize(sentence1)\n",
        "sentence2_words = tokenize(sentence2)\n",
        "\n",
        "print(\"Sentence 1 as a list:\", sentence1_words)\n",
        "print(\"Sentence 2 as a list:\", sentence2_words)\n",
        "\n",
        "# Step 3: Compare the two sentences and print common words\n",
        "common_words = set(sentence1_words) & set(sentence2_words)\n",
        "print(\"Common words:\", common_words)\n",
        "\n",
        "# Step 4: Remove punctuation from the sentences\n",
        "def remove_punctuation(sentence):\n",
        "    return ''.join(char for char in sentence if char not in string.punctuation)\n",
        "\n",
        "cleaned_sentence1 = remove_punctuation(sentence1)\n",
        "cleaned_sentence2 = remove_punctuation(sentence2)\n",
        "\n",
        "print(\"Sentence 1 without punctuation:\", cleaned_sentence1)\n",
        "print(\"Sentence 2 without punctuation:\", cleaned_sentence2)\n",
        "\n",
        "# Step 5: Count the number of vowels in the sentences\n",
        "vowels = 'aeiouAEIOU'\n",
        "vowel_counts1 = {vowel: cleaned_sentence1.lower().count(vowel) for vowel in vowels}\n",
        "vowel_counts2 = {vowel: cleaned_sentence2.lower().count(vowel) for vowel in vowels}\n",
        "\n",
        "print(\"Vowel counts in Sentence 1:\", vowel_counts1)\n",
        "print(\"Vowel counts in Sentence 2:\", vowel_counts2)\n",
        "\n",
        "\n"
      ]
    },
    {
      "cell_type": "markdown",
      "metadata": {
        "id": "CmFoI4jDS9nx"
      },
      "source": [
        "# Question 3\n",
        "\n",
        "(15 points). The formula that describes the volume V of a sphere with radius r is the following:\n",
        "\n",
        "$ V=\\frac{4}{3}\\ast\\ \\pi\\ast\\ r^3 $\n",
        "\n",
        "Write a program to calculate the value of V when r is in the range of 1–10. Output the result in the following format:\n",
        "\n",
        "\tr\tV\n",
        "\t1\t…\n",
        "\t2\t…\n",
        "\t3\t…\n"
      ]
    },
    {
      "cell_type": "code",
      "execution_count": 3,
      "metadata": {
        "id": "pEyqeioAT95b",
        "colab": {
          "base_uri": "https://localhost:8080/"
        },
        "outputId": "514dd7b7-3558-47ff-d059-eef99f81606a"
      },
      "outputs": [
        {
          "output_type": "stream",
          "name": "stdout",
          "text": [
            "When the radius is 1, the volume of the sphere is 4.19\n",
            "When the radius is 2, the volume of the sphere is 33.51\n",
            "When the radius is 3, the volume of the sphere is 113.10\n",
            "When the radius is 4, the volume of the sphere is 268.08\n",
            "When the radius is 5, the volume of the sphere is 523.60\n",
            "When the radius is 6, the volume of the sphere is 904.78\n",
            "When the radius is 7, the volume of the sphere is 1436.76\n",
            "When the radius is 8, the volume of the sphere is 2144.66\n",
            "When the radius is 9, the volume of the sphere is 3053.63\n",
            "When the radius is 10, the volume of the sphere is 4188.79\n"
          ]
        }
      ],
      "source": [
        "# Your code here\n",
        "\n",
        "import math\n",
        "\n",
        "# Create a function to calculate the volume of a sphere\n",
        "def calculate_volume(radius):\n",
        "    volume = (4/3) * math.pi * radius**3\n",
        "    return volume\n",
        "\n",
        "# Iterate over a range of radii from 1 to 10 and calculate the volume\n",
        "for radius in range(1, 11):\n",
        "    volume = calculate_volume(radius)\n",
        "    # Format and print the result\n",
        "    print(f\"When the radius is {radius}, the volume of the sphere is {volume:.2f}\")\n"
      ]
    },
    {
      "cell_type": "markdown",
      "metadata": {
        "id": "z3tBE7E-Xn5X"
      },
      "source": [
        "# Question 4\n",
        "\n",
        "(40 points). In the field of Data Science, data is often formatted as a comma-delimited (CSV) file, where each line in a file corresponds to a field's value. Refer to Chapter 9 (p. 106) for more information on comma-delimited files. To answer this question, you will need to download the file [Assignment1_denton_housing.csv](https://raw.githubusercontent.com/unt-iialab/info5731-spring2022/main/assignments/Assignment1_denton_housing.csv) included with this assignment. The file [Assignment1_denton_housing.csv](https://raw.githubusercontent.com/unt-iialab/info5731-spring2022/main/assignments/Assignment1_denton_housing.csv) contains statistics about housing in the city of Denton from 2008 to 2014. Write a program to implement the following questions.\n",
        "\n",
        "(1) (10 pts) Calculate the difference in the number of Occupied Housing Units from year to year and print it. The difference must be calculated for the consecutive years such as 2008-2009, 2009-2010 etc. Finally, print the values in the ascending order.\n",
        "\n",
        "(2) (10 pts) For all the years, calculate the percentage of housing units which are vacant an occupied. Print the results in the following format:\n",
        "\n",
        "Year Vacant Housing Units Occupied Housing Units\n",
        "\n",
        "    2008  30%   70%                          \n",
        "\t2009 ----- -----\n",
        "\t2010 ----- -----\n",
        "    2011 ----- -----\n",
        "\t2012 ----- -----\n",
        "    2013 ----- -----\n",
        "\t2014 ----- -----\n",
        "  \n",
        "  \n",
        "\n",
        "(3) (10 pts) Calculate and print the valued and years in which the highest number of housing units were vacant and occupied. Print the results in the following format:  \n",
        "\n",
        "                              Year\tValue\n",
        "\tVacant Housing Units\t  -----   -----\n",
        "\tOccupied Housing Units\t-----   -----\n",
        "\n",
        "(4) (10 pts) Calculate the harmonic mean of the total housing units and print it out. You can find the information about harmonic mean here: https://ncalculators.com/statistics/harmonic-mean-calculator.htm"
      ]
    },
    {
      "cell_type": "code",
      "execution_count": 5,
      "metadata": {
        "id": "lqGYuHBhcsRH",
        "colab": {
          "base_uri": "https://localhost:8080/"
        },
        "outputId": "a3d465ba-a3ed-4c91-f0d5-23322ebe7fbf"
      },
      "outputs": [
        {
          "output_type": "stream",
          "name": "stdout",
          "text": [
            "(1) Difference in the number of Occupied Housing Units from year to year (in ascending order):\n",
            "2008-2008: 32228\n",
            "2009-2009: 32333\n",
            "2011-2011: 36491\n",
            "2010-2010: 37372\n",
            "2012-2012: 39095\n",
            "2013-2013: 39458\n",
            "2014-2014: 43481\n",
            "\n",
            "(2) Percentage of housing units which are vacant and occupied for each year:\n",
            "Year   Vacant Housing Units   Occupied Housing Units\n",
            "2014      5.7%               94.3%\n",
            "2013      8.8%               91.2%\n",
            "2012      6.7%               93.3%\n",
            "2011      9.4%               90.6%\n",
            "2010      8.1%               91.9%\n",
            "2009      9.1%               90.9%\n",
            "2008      10.9%               89.1%\n",
            "\n",
            "(3) Years with the highest number of vacant and occupied housing units:\n",
            "                     Year    Value\n",
            "Vacant Housing Units   2008    4483\n",
            "Occupied Housing Units 2014    46295\n",
            "\n",
            "(4) Harmonic mean of the total housing units: 44398.28543969185\n"
          ]
        }
      ],
      "source": [
        "import csv\n",
        "\n",
        "# Initialize variables to store data\n",
        "data = []\n",
        "\n",
        "# Read the CSV file\n",
        "with open('Assignment1_denton_housing.csv', 'r') as file:\n",
        "    reader = csv.DictReader(file)\n",
        "    for row in reader:\n",
        "        data.append(row)\n",
        "\n",
        "# Step 1: Calculate the difference in the number of Occupied Housing Units from year to year\n",
        "year_diff = {}\n",
        "prev_year_data = None\n",
        "\n",
        "for row in data:\n",
        "    year = int(row['year'])\n",
        "    title_field = row['title_field']\n",
        "    intdata = int(row['value']) if row['value'].isdigit() else 0\n",
        "\n",
        "    if title_field == 'Occupied Housing Units':\n",
        "        if prev_year_data is not None:\n",
        "            prev_value = int(prev_year_data['value'])\n",
        "            year_diff[f\"{prev_year_data['year']}-{year}\"] = intdata - prev_value\n",
        "\n",
        "    prev_year_data = row\n",
        "\n",
        "# Sort and print the differences in ascending order\n",
        "sorted_year_diff = sorted(year_diff.items(), key=lambda x: x[1])\n",
        "print(\"(1) Difference in the number of Occupied Housing Units from year to year (in ascending order):\")\n",
        "for year_range, difference in sorted_year_diff:\n",
        "    print(f\"{year_range}: {difference}\")\n",
        "\n",
        "# Step 2: Calculate the percentage of vacant and occupied housing units for each year\n",
        "year_percentages = {}\n",
        "for row in data:\n",
        "    year = int(row['year'])\n",
        "    title_field = row['title_field']\n",
        "    intdata = int(row['value']) if row['value'].isdigit() else 0\n",
        "\n",
        "    if title_field == 'Total Housing Units':\n",
        "        total_units = intdata\n",
        "    elif title_field == 'Vacant Housing Units':\n",
        "        vacant_units = intdata\n",
        "    elif title_field == 'Occupied Housing Units':\n",
        "        occupied_units = intdata\n",
        "        vacant_percent = (vacant_units / total_units) * 100\n",
        "        occupied_percent = (occupied_units / total_units) * 100\n",
        "        year_percentages[year] = (vacant_percent, occupied_percent)\n",
        "\n",
        "# Print the percentages in the specified format\n",
        "print(\"\\n(2) Percentage of housing units which are vacant and occupied for each year:\")\n",
        "print(\"Year   Vacant Housing Units   Occupied Housing Units\")\n",
        "for year, (vacant_percent, occupied_percent) in year_percentages.items():\n",
        "    print(f\"{year}      {vacant_percent:.1f}%               {occupied_percent:.1f}%\")\n",
        "\n",
        "# Step 3: Calculate the years with the highest number of vacant and occupied housing units\n",
        "max_vacant_year = max(data, key=lambda x: int(x['value']) if x['title_field'] == 'Vacant Housing Units' else 0)['year']\n",
        "max_vacant_value = max(data, key=lambda x: int(x['value']) if x['title_field'] == 'Vacant Housing Units' else 0)['value']\n",
        "\n",
        "max_occupied_year = max(data, key=lambda x: int(x['value']) if x['title_field'] == 'Occupied Housing Units' else 0)['year']\n",
        "max_occupied_value = max(data, key=lambda x: int(x['value']) if x['title_field'] == 'Occupied Housing Units' else 0)['value']\n",
        "\n",
        "print(\"\\n(3) Years with the highest number of vacant and occupied housing units:\")\n",
        "print(\"                     Year    Value\")\n",
        "print(f\"Vacant Housing Units   {max_vacant_year}    {max_vacant_value}\")\n",
        "print(f\"Occupied Housing Units {max_occupied_year}    {max_occupied_value}\")\n",
        "\n",
        "# Step 4: Calculate the harmonic mean of the total housing units\n",
        "total_units = [int(row['value']) for row in data if row['title_field'] == 'Total Housing Units']\n",
        "n = len(total_units)\n",
        "harmonic_mean = n / sum(1 / x for x in total_units)\n",
        "\n",
        "# Print the harmonic mean\n",
        "print(\"\\n(4) Harmonic mean of the total housing units:\", harmonic_mean)\n"
      ]
    }
  ],
  "metadata": {
    "colab": {
      "provenance": [],
      "include_colab_link": true
    },
    "kernelspec": {
      "display_name": "Python 3 (ipykernel)",
      "language": "python",
      "name": "python3"
    },
    "language_info": {
      "codemirror_mode": {
        "name": "ipython",
        "version": 3
      },
      "file_extension": ".py",
      "mimetype": "text/x-python",
      "name": "python",
      "nbconvert_exporter": "python",
      "pygments_lexer": "ipython3",
      "version": "3.9.12"
    }
  },
  "nbformat": 4,
  "nbformat_minor": 0
}