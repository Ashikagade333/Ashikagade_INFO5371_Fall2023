{
  "cells": [
    {
      "cell_type": "markdown",
      "metadata": {
        "id": "view-in-github"
      },
      "source": [
        "<a href=\"https://colab.research.google.com/github/unt-iialab/INFO5731_Spring2020/blob/master/In_class_exercise/In_class_exercise_01.ipynb\" target=\"_parent\"><img src=\"https://colab.research.google.com/assets/colab-badge.svg\" alt=\"Open In Colab\"/></a>"
      ]
    },
    {
      "cell_type": "markdown",
      "metadata": {
        "id": "DymRJbxDBCnf"
      },
      "source": [
        "# **The first In-class-exercise (08/30/2023, 40 points in total)**\n",
        "This exercise is due tomorrow 08/31/203 11:59 PM.\n"
      ]
    },
    {
      "cell_type": "markdown",
      "metadata": {
        "id": "FBKvD6O_TY6e"
      },
      "source": [
        "(1) Write a Python program to calculate the area of a rectangle using user-input length and width."
      ]
    },
    {
      "cell_type": "code",
      "execution_count": 106,
      "metadata": {
        "id": "cikVKDXdTbzE"
      },
      "outputs": [
        {
          "name": "stdout",
          "output_type": "stream",
          "text": [
            "the area of rectangle is: 20.0\n"
          ]
        }
      ],
      "source": [
        "# To calculate area of the triangle i am using functions\n",
        "a = float(input(\"the length of rectangle is:\")) #taking the user input for the length \n",
        "b = float(input(\"the width of rectangle is: \"))  #taking the user input for the width\n",
        "\n",
        "def area_of_rect(a,b):\n",
        "    x = a*b\n",
        "    print (\"the area of rectangle is: {}\".format(x)) \n",
        "\n",
        "area_of_rect(a,b)"
      ]
    },
    {
      "cell_type": "markdown",
      "metadata": {
        "id": "E9RqrlwdTfvl"
      },
      "source": [
        "(2) Create a program that takes two numbers from the user and swaps their values without using a temporary variable."
      ]
    },
    {
      "cell_type": "code",
      "execution_count": 107,
      "metadata": {
        "id": "4XvRknixTh1g"
      },
      "outputs": [
        {
          "name": "stdout",
          "output_type": "stream",
          "text": [
            "8 4\n"
          ]
        }
      ],
      "source": [
        "\n",
        "a = input(\"first number is:\")\n",
        "b = input(\"second number is:\")\n",
        "\n",
        "def swap(a,b):\n",
        "    a,b = b,a #assigning variables to the required variables to satisfy the condition\n",
        "\n",
        "    print(a,b)\n",
        "\n",
        "swap(a,b)"
      ]
    },
    {
      "cell_type": "markdown",
      "metadata": {
        "id": "03jb4GZsBkBS"
      },
      "source": [
        "(3) Write a Python program to calculate the length of a string."
      ]
    },
    {
      "cell_type": "code",
      "execution_count": 108,
      "metadata": {
        "id": "YaGLbSHHB8Ej"
      },
      "outputs": [
        {
          "name": "stdout",
          "output_type": "stream",
          "text": [
            "5\n"
          ]
        }
      ],
      "source": [
        "\n",
        "a = 'Hello'\n",
        "\n",
        "def stringlen(a):\n",
        "    length = len(a) #len() command calculates the length of any string provided in the \"a\" variable\n",
        "    print(length)\n",
        "\n",
        "stringlen(a)\n"
      ]
    },
    {
      "cell_type": "markdown",
      "metadata": {
        "id": "jJDe71iLB616"
      },
      "source": [
        "(4) Write a Python program to count the number of characters in a string.\n",
        "\n",
        "Sample String : 'google.com‘,\n",
        "\n",
        "Expected Result : {'o': 3, 'g': 2, '.': 1, 'e': 1, 'l': 1, 'm': 1, 'c': 1}"
      ]
    },
    {
      "cell_type": "code",
      "execution_count": 109,
      "metadata": {
        "id": "MtKskTzbCLaU"
      },
      "outputs": [
        {
          "name": "stdout",
          "output_type": "stream",
          "text": [
            "Counter({'o': 3, 'g': 2, 'l': 1, 'e': 1, '.': 1, 'c': 1, 'm': 1})\n"
          ]
        }
      ],
      "source": [
        "# counter from the collections library is very efficient in finding the number of characters in the provided string in \"sample\"\n",
        "from collections import Counter \n",
        "\n",
        "sample = 'google.com'\n",
        "\n",
        "def countchar(sample):\n",
        "    y = Counter(sample)\n",
        "    print(y)\n",
        "\n",
        "countchar(sample)\n",
        "\n"
      ]
    },
    {
      "cell_type": "markdown",
      "metadata": {
        "id": "55W9AMdXCSpV"
      },
      "source": [
        "(5) Write a Python program to sum all the items in a list."
      ]
    },
    {
      "cell_type": "code",
      "execution_count": 113,
      "metadata": {
        "id": "I57NXsauCec2"
      },
      "outputs": [
        {
          "data": {
            "text/plain": [
              "5"
            ]
          },
          "execution_count": 113,
          "metadata": {},
          "output_type": "execute_result"
        }
      ],
      "source": [
        "# write your answer here\n",
        "def sumofnums(a):\n",
        "    total = 0 #taking total as a temporary variable to store the individual item from list through out the loop\n",
        "    for i in a:\n",
        "        total += i  #to increments the items in the list\n",
        "    return total\n",
        "\n",
        "\n",
        "a=[1,4]\n",
        "sumofnums(a)"
      ]
    },
    {
      "cell_type": "markdown",
      "metadata": {
        "id": "4ulBZ6yhCi9F"
      },
      "source": [
        "(6) Write a Python program to get a string from a given string where all occurrences of its first char have been changed to '\\$', except the first char itself.\n",
        "\n",
        "Sample String : 'restart‘,\n",
        "\n",
        "Expected Result : 'resta\\$t'"
      ]
    },
    {
      "cell_type": "code",
      "execution_count": 116,
      "metadata": {
        "id": "Fj0XhwbBCw2o"
      },
      "outputs": [
        {
          "data": {
            "text/plain": [
              "'resta$t'"
            ]
          },
          "execution_count": 116,
          "metadata": {},
          "output_type": "execute_result"
        }
      ],
      "source": [
        "# write your answer here\n",
        "def modify_string(s):\n",
        "    first_char = s[0]  # Get the first character\n",
        "    modified = first_char  # Initialize the modified string with the first character\n",
        "\n",
        "    # Iterate through the rest of the string\n",
        "    for char in s[1:]:\n",
        "        if char == first_char:\n",
        "            modified += '$'  # Replace with '$' if the character is the same as the first character\n",
        "        else:\n",
        "            modified += char\n",
        "    \n",
        "    return modified\n",
        "\n",
        "s = 'restart'\n",
        "modify_string(s)"
      ]
    },
    {
      "cell_type": "markdown",
      "metadata": {
        "id": "qVXA3q7ET5JI"
      },
      "source": [
        "(7) Create a program that calculates the factorial of a number using a while loop."
      ]
    },
    {
      "cell_type": "code",
      "execution_count": 5,
      "metadata": {
        "id": "Lbt7R6UkT7BA"
      },
      "outputs": [
        {
          "data": {
            "text/plain": [
              "40320"
            ]
          },
          "execution_count": 5,
          "metadata": {},
          "output_type": "execute_result"
        }
      ],
      "source": [
        "# write your answer here\n",
        "\n",
        "def factorial(num):\n",
        "  p = 1\n",
        "  a = 1\n",
        "  while p<=num:\n",
        "    a= a*p #to multiply the incrementing number  until it matches the user provided number\n",
        "    p += 1  #to satisfy the while condition, this increment is essential\n",
        "\n",
        "  return a\n",
        "\n",
        "\n",
        "factorial(8)"
      ]
    },
    {
      "cell_type": "markdown",
      "metadata": {
        "id": "6YfbzXMNT--R"
      },
      "source": [
        "(8) Create a program that takes a list of numbers as input and outputs a new list with only the even numbers."
      ]
    },
    {
      "cell_type": "code",
      "execution_count": 138,
      "metadata": {
        "id": "54q7wMQPUAKu"
      },
      "outputs": [
        {
          "name": "stdout",
          "output_type": "stream",
          "text": [
            "List has no even numbers\n",
            "Even numbers: [2, 4, 6, 8]\n"
          ]
        }
      ],
      "source": [
        "# write your answer here\n",
        "\n",
        "#a function to filter even numbers from a list\n",
        "def evennum(a):\n",
        "    k = []  # an empty list to store even numbers\n",
        "    \n",
        "    # Iterate through the elements in the input list 'a'\n",
        "    for i in a:\n",
        "        if i % 2 == 0:  # Check if the element is even\n",
        "            k.append(i)  \n",
        "    \n",
        "    # If no even numbers were found in the list 'a', print a message\n",
        "    else:\n",
        "        print('List has no even numbers')\n",
        "    \n",
        "    return k  \n",
        "\n",
        "\n",
        "\n",
        "# Input list\n",
        "a = [1, 2, 3, 4, 5, 6, 7, 8]\n",
        "\n",
        "# Call the function to filter even numbers from the list 'a'\n",
        "even_numbers = evennum(a)\n",
        "\n",
        "# Print the list of even numbers\n",
        "print(\"Even numbers:\", even_numbers)\n"
      ]
    },
    {
      "cell_type": "markdown",
      "metadata": {
        "id": "_bIP7s1MCzue"
      },
      "source": [
        "(9) Write a program with python which could accept two parameter a and b to calculate and output the result of S, where\n",
        "\n",
        "$\\ S=3.14*(1+a/b)^3$\n",
        "\n"
      ]
    },
    {
      "cell_type": "code",
      "execution_count": 15,
      "metadata": {
        "id": "w79QilHXD3Mg"
      },
      "outputs": [
        {
          "name": "stdout",
          "output_type": "stream",
          "text": [
            "16.8284375\n"
          ]
        }
      ],
      "source": [
        "\n",
        "#a function named 'func' with two input parameters 'a' and 'b'\n",
        "def func(a, b):\n",
        "    x = 3.14 * (1 + a / b) ** 3  # Calculate the value of 'x' using the given formula\n",
        "    print(x)  \n",
        "\n",
        "# Call the 'func' function with arguments 3 and 4\n",
        "func(3, 4)\n",
        "\n"
      ]
    },
    {
      "cell_type": "markdown",
      "metadata": {
        "id": "xCa2bK9aD4Q3"
      },
      "source": [
        "(10) Write a Python program to concatenate following dictionaries to create a new one.\n",
        "\n",
        "Sample Dictionary : dic1={1:10, 2:20}, dic2={3:30, 4:40}, dic3={5:50,6:60},\n",
        "\n",
        "Expected Result : {1: 10, 2: 20, 3: 30, 4: 40, 5: 50, 6: 60}\n"
      ]
    },
    {
      "cell_type": "code",
      "execution_count": 139,
      "metadata": {
        "id": "_z4aLqAbEET1"
      },
      "outputs": [
        {
          "name": "stdout",
          "output_type": "stream",
          "text": [
            "{1: 10, 2: 20, 3: 30, 4: 40, 5: 50, 6: 60}\n"
          ]
        }
      ],
      "source": [
        "# write your answer here\n",
        "# Define three dictionaries\n",
        "dic1 = {1: 10, 2: 20}\n",
        "dic2 = {3: 30, 4: 40}\n",
        "dic3 = {5: 50, 6: 60}\n",
        "\n",
        "# Create an empty dictionary 'k' and copy the contents of 'dic1' into it\n",
        "k = dict(dic1)\n",
        "\n",
        "# Update 'k' with the contents\n",
        "k.update(dic2)\n",
        "k.update(dic3)\n",
        "\n",
        "\n",
        "print(k)\n"
      ]
    },
    {
      "cell_type": "markdown",
      "metadata": {
        "id": "bkyZ2xSZUOst"
      },
      "source": [
        "(11) Write a Python function that accepts a tuple of integers and returns the largest and smallest elements."
      ]
    },
    {
      "cell_type": "code",
      "execution_count": 140,
      "metadata": {
        "id": "3FdLRBKOUQEd"
      },
      "outputs": [
        {
          "name": "stdout",
          "output_type": "stream",
          "text": [
            "Max number is: 445\n",
            "Min number is: 1\n"
          ]
        }
      ],
      "source": [
        "def nums(a):\n",
        "    x = max(a)\n",
        "    y = min(a)\n",
        "\n",
        "    print('Max number is: {}'.format(x)) # Print the maximum number using the 'x' value in the formatted string\n",
        "    print('Min number is: {}'.format(y))   # Print the minimum number using the 'y' value in the formatted string\n",
        "\n",
        "\n",
        "\n",
        "a= (1,4,5,8,7,9,7,445,65,353)\n",
        "nums(a)"
      ]
    },
    {
      "cell_type": "markdown",
      "metadata": {
        "id": "O0TVi3gKUTpp"
      },
      "source": [
        "(12) Write a Python program that counts the frequency of each character in a given string and stores it in a dictionary."
      ]
    },
    {
      "cell_type": "code",
      "execution_count": 115,
      "metadata": {
        "id": "lAtfSfZXUU-h"
      },
      "outputs": [
        {
          "name": "stdout",
          "output_type": "stream",
          "text": [
            "frequency of each character is : Counter({'o': 3, 'g': 2, 'l': 1, 'e': 1, '.': 1, 'c': 1, 'm': 1})\n"
          ]
        }
      ],
      "source": [
        "# write your answer here\n",
        "\n",
        "from collections import Counter\n",
        "\n",
        "sample = 'google.com'\n",
        "\n",
        "def countchar(sample):\n",
        "    y = Counter(sample)\n",
        "    print(\"frequency of each character is : {}\".format(y))\n",
        "\n",
        "countchar(sample)"
      ]
    },
    {
      "cell_type": "markdown",
      "metadata": {
        "id": "0v48Vqa7FrQh"
      },
      "source": [
        "(13) Write a Python program to check whether an element exists within a tuple."
      ]
    },
    {
      "cell_type": "code",
      "execution_count": 141,
      "metadata": {},
      "outputs": [
        {
          "name": "stdout",
          "output_type": "stream",
          "text": [
            "Repeated element is: 3\n"
          ]
        },
        {
          "data": {
            "text/plain": [
              "True"
            ]
          },
          "execution_count": 141,
          "metadata": {},
          "output_type": "execute_result"
        }
      ],
      "source": [
        "#a function named 'tuplee' that takes a tuple 'a' as input\n",
        "def tuplee(a):\n",
        "    check = 3  #value to check for repetition\n",
        "    result = False  \n",
        "\n",
        "    # Iterate through the elements in the tuple 'a'\n",
        "    for i in a:\n",
        "        if check == i:  # Check if the current element is equal to 'check'\n",
        "            result = True  \n",
        "            print(\"Repeated element is: \" + str(i))  # Print the repeated element\n",
        "            break  \n",
        "    \n",
        "    # If no repeated element was found in the loop, print a message\n",
        "    else:\n",
        "        print('Could not find any repeated element')\n",
        "\n",
        "    return result  \n",
        "\n",
        "\n",
        "\n",
        "a = (1,54,5,8,9,6,3,45)\n",
        "tuplee(a)"
      ]
    },
    {
      "cell_type": "markdown",
      "metadata": {
        "id": "vD5PYLMuGga_"
      },
      "source": [
        "(14) Write a Python program to find maximum and the minimum value in a set."
      ]
    },
    {
      "cell_type": "code",
      "execution_count": 55,
      "metadata": {
        "id": "t0D5kdJUGjjw"
      },
      "outputs": [
        {
          "name": "stdout",
          "output_type": "stream",
          "text": [
            "Max number is: 445\n",
            "Min number is: 1\n"
          ]
        }
      ],
      "source": [
        "# write your answer here\n",
        "def nums(a):\n",
        "    x = max(a)\n",
        "    y = min(a)\n",
        "\n",
        "    print('Max number is: {}'.format(x))\n",
        "    print('Min number is: {}'.format(y))\n",
        "\n",
        "\n",
        "a= {1,4,5,8,7,9,7,445,65,353}\n",
        "nums(a)"
      ]
    },
    {
      "cell_type": "markdown",
      "metadata": {
        "id": "uHkd-y5VhVWC"
      },
      "source": [
        "(15) Write a Python program to randomly divide the students in this class into six groups for term projects, each group should have at least 4 students but no more than 6 students (including 6). Here is the students list:\n",
        "student_list_fall_2023=['sb1826' ,\n",
        " 'lb0582' ,\n",
        " 'ab1820' ,\n",
        " 'sb1883' ,\n",
        " 'mb1296' ,\n",
        " 'sc1622' ,\n",
        " 'tc0469' ,\n",
        " 'ac1770' ,\n",
        " 'mc1453' ,\n",
        " 'ad1187' ,\n",
        " 'sd0926' ,\n",
        " 'sd1268' ,\n",
        " 'ag1609' ,\n",
        " 'sg1638' ,\n",
        " 'mg1299' ,\n",
        " 'vkk0022' ,\n",
        " 'bk0413' ,\n",
        " 'gk0257' ,\n",
        " 'am2807' ,\n",
        " 'gm0558' ,\n",
        " 'pm0658' ,\n",
        " 'am2346' ,\n",
        " 'rm1090' ,\n",
        " 'sm2364' ,\n",
        " 'sm2747' ,\n",
        " 'sm2343' ,\n",
        " 'vm0597' ,\n",
        " 'htn0086' ,\n",
        " 'sp2075' ,\n",
        " 'gp0306' ,\n",
        " 'lp0502' ,\n",
        " 'sr1508' ,\n",
        " 'vr0331' ,\n",
        " 'yr0180' ,\n",
        " 'as2819' ,\n",
        " 'ss2981' ,\n",
        " 'ns0756' ,\n",
        " 'mt0825' ,\n",
        " 'dt0463' ,\n",
        " 'su0137' ,\n",
        " 'dv0310'\n",
        "]"
      ]
    },
    {
      "cell_type": "code",
      "execution_count": 82,
      "metadata": {
        "id": "3iGbmcOBhTwy"
      },
      "outputs": [
        {
          "data": {
            "text/plain": [
              "[['htn0086', 'as2819', 'gm0558', 'vr0331', 'sr1508', 'ad1187'],\n",
              " ['mg1299', 'sm2343', 'sm2747', 'gk0257', 'lp0502', 'am2807'],\n",
              " ['vm0597', 'sb1883', 'sp2075', 'bk0413', 'sc1622', 'dt0463'],\n",
              " ['yr0180', 'sm2364', 'ns0756', 'rm1090', 'ag1609', 'sd0926'],\n",
              " ['ab1820', 'am2346', 'sg1638', 'ss2981', 'mt0825', 'tc0469'],\n",
              " ['mb1296', 'mc1453', 'lb0582', 'sb1826', 'pm0658', 'su0137'],\n",
              " ['dv0310', 'vkk0022', 'gp0306', 'ac1770', 'sd1268']]"
            ]
          },
          "execution_count": 82,
          "metadata": {},
          "output_type": "execute_result"
        }
      ],
      "source": [
        "# write your answer here\n",
        "import random\n",
        "\n",
        "def studentsrandom(student_list_fall_2023):\n",
        "\n",
        "    random.shuffle(student_list_fall_2023)\n",
        "    grp = len(student_list_fall_2023) // 6\n",
        "\n",
        "    if grp < 4:\n",
        "        grp = 4\n",
        "\n",
        "    no_of_groups = []\n",
        "    students = []\n",
        "#    groups = []\n",
        "#     current_group = []\n",
        "\n",
        "    for student in student_list_fall_2023:\n",
        "            # If the current group is already full, start a new group\n",
        "            if len(students) == grp:\n",
        "                no_of_groups.append(students)\n",
        "                students = []\n",
        "            \n",
        "            # Add the student to the current group\n",
        "            students.append(student)\n",
        "    \n",
        "    no_of_groups.append(students)\n",
        "    \n",
        "    return no_of_groups\n",
        "\n",
        "    \n",
        "   \n",
        "    \n",
        "\n",
        "\n",
        "student_list_fall_2023 =['sb1826' ,\n",
        " 'lb0582' ,\n",
        " 'ab1820' ,\n",
        " 'sb1883' ,\n",
        " 'mb1296' ,\n",
        " 'sc1622' ,\n",
        " 'tc0469' ,\n",
        " 'ac1770' ,\n",
        " 'mc1453' ,\n",
        " 'ad1187' ,\n",
        " 'sd0926' ,\n",
        " 'sd1268' ,\n",
        " 'ag1609' ,\n",
        " 'sg1638' ,\n",
        " 'mg1299' ,\n",
        " 'vkk0022' ,\n",
        " 'bk0413' ,\n",
        " 'gk0257' ,\n",
        " 'am2807' ,\n",
        " 'gm0558' ,\n",
        " 'pm0658' ,\n",
        " 'am2346' ,\n",
        " 'rm1090' ,\n",
        " 'sm2364' ,\n",
        " 'sm2747' ,\n",
        " 'sm2343' ,\n",
        " 'vm0597' ,\n",
        " 'htn0086' ,\n",
        " 'sp2075' ,\n",
        " 'gp0306' ,\n",
        " 'lp0502' ,\n",
        " 'sr1508' ,\n",
        " 'vr0331' ,\n",
        " 'yr0180' ,\n",
        " 'as2819' ,\n",
        " 'ss2981' ,\n",
        " 'ns0756' ,\n",
        " 'mt0825' ,\n",
        " 'dt0463' ,\n",
        " 'su0137' ,\n",
        " 'dv0310'\n",
        "]\n",
        "\n",
        "studentsrandom(student_list_fall_2023)"
      ]
    },
    {
      "cell_type": "markdown",
      "metadata": {
        "id": "fmZ9vX20Qs3d"
      },
      "source": [
        "\n",
        "\n",
        "(16) Write a Python program to find the duplicate elements in a given array of integers. Return -1 If there are no such elements."
      ]
    },
    {
      "cell_type": "code",
      "execution_count": 86,
      "metadata": {
        "id": "W8Jw6sWMQs3d"
      },
      "outputs": [
        {
          "name": "stdout",
          "output_type": "stream",
          "text": [
            "The repeated element is: [8]\n"
          ]
        }
      ],
      "source": [
        "# write your answer here\n",
        "def dup(a):\n",
        "    check = 8\n",
        "    k = []\n",
        "    for i in a:\n",
        "        if i == check:  # You need to check against 'i' instead of 'check'\n",
        "            k.append(i)      \n",
        "    \n",
        "    if len(k) > 0:  # You should only print the repeated elements if there are any\n",
        "        print(\"The repeated element is: {}\".format(k))    \n",
        "    else:\n",
        "        print('-1 There are no repeated elements')\n",
        "\n",
        "a = [1, 4, 5, 2, 7, 8, 9, 6, 3]\n",
        "dup(a)\n"
      ]
    },
    {
      "cell_type": "markdown",
      "metadata": {
        "id": "hvq4APMhQs3d"
      },
      "source": [
        "(17) Write a Python program to select all the Sundays of a specified year."
      ]
    },
    {
      "cell_type": "code",
      "execution_count": 85,
      "metadata": {
        "id": "ZnoxhSglQs3d"
      },
      "outputs": [
        {
          "name": "stdout",
          "output_type": "stream",
          "text": [
            "Invalid input. Please enter a valid year or type 'exit' to quit.\n",
            "Invalid input. Please enter a valid year or type 'exit' to quit.\n",
            "Sundays in 2020:\n",
            "1/5/2020\n",
            "1/12/2020\n",
            "1/19/2020\n",
            "1/26/2020\n",
            "2/2/2020\n",
            "2/9/2020\n",
            "2/16/2020\n",
            "2/23/2020\n",
            "3/1/2020\n",
            "3/8/2020\n",
            "3/15/2020\n",
            "3/22/2020\n",
            "3/29/2020\n",
            "4/5/2020\n",
            "4/12/2020\n",
            "4/19/2020\n",
            "4/26/2020\n",
            "5/3/2020\n",
            "5/10/2020\n",
            "5/17/2020\n",
            "5/24/2020\n",
            "5/31/2020\n",
            "6/7/2020\n",
            "6/14/2020\n",
            "6/21/2020\n",
            "6/28/2020\n",
            "7/5/2020\n",
            "7/12/2020\n",
            "7/19/2020\n",
            "7/26/2020\n",
            "8/2/2020\n",
            "8/9/2020\n",
            "8/16/2020\n",
            "8/23/2020\n",
            "8/30/2020\n",
            "9/6/2020\n",
            "9/13/2020\n",
            "9/20/2020\n",
            "9/27/2020\n",
            "10/4/2020\n",
            "10/11/2020\n",
            "10/18/2020\n",
            "10/25/2020\n",
            "11/1/2020\n",
            "11/8/2020\n",
            "11/15/2020\n",
            "11/22/2020\n",
            "11/29/2020\n",
            "12/6/2020\n",
            "12/13/2020\n",
            "12/20/2020\n",
            "12/27/2020\n",
            "Sundays in 2012:\n",
            "1/1/2012\n",
            "1/8/2012\n",
            "1/15/2012\n",
            "1/22/2012\n",
            "1/29/2012\n",
            "2/5/2012\n",
            "2/12/2012\n",
            "2/19/2012\n",
            "2/26/2012\n",
            "3/4/2012\n",
            "3/11/2012\n",
            "3/18/2012\n",
            "3/25/2012\n",
            "4/1/2012\n",
            "4/8/2012\n",
            "4/15/2012\n",
            "4/22/2012\n",
            "4/29/2012\n",
            "5/6/2012\n",
            "5/13/2012\n",
            "5/20/2012\n",
            "5/27/2012\n",
            "6/3/2012\n",
            "6/10/2012\n",
            "6/17/2012\n",
            "6/24/2012\n",
            "7/1/2012\n",
            "7/8/2012\n",
            "7/15/2012\n",
            "7/22/2012\n",
            "7/29/2012\n",
            "8/5/2012\n",
            "8/12/2012\n",
            "8/19/2012\n",
            "8/26/2012\n",
            "9/2/2012\n",
            "9/9/2012\n",
            "9/16/2012\n",
            "9/23/2012\n",
            "9/30/2012\n",
            "10/7/2012\n",
            "10/14/2012\n",
            "10/21/2012\n",
            "10/28/2012\n",
            "11/4/2012\n",
            "11/11/2012\n",
            "11/18/2012\n",
            "11/25/2012\n",
            "12/2/2012\n",
            "12/9/2012\n",
            "12/16/2012\n",
            "12/23/2012\n",
            "12/30/2012\n"
          ]
        }
      ],
      "source": [
        "import calendar\n",
        "\n",
        "def get_sundays(year):\n",
        "    sundays = []\n",
        "    for month in range(1, 13):\n",
        "        for day in range(1, calendar.monthrange(year, month)[1] + 1):\n",
        "            if calendar.weekday(year, month, day) == calendar.SUNDAY:\n",
        "                sundays.append((year, month, day))\n",
        "    return sundays\n",
        "\n",
        "def main():\n",
        "    while True:\n",
        "        try:\n",
        "            year_str = input(\"Enter a year: \")\n",
        "            if year_str.lower() == \"exit\":\n",
        "                break\n",
        "            year = int(year_str)\n",
        "            sundays = get_sundays(year)\n",
        "\n",
        "            if len(sundays) > 0:\n",
        "                print(f\"Sundays in {year}:\")\n",
        "                for sunday in sundays:\n",
        "                    print(f\"{sunday[1]}/{sunday[2]}/{sunday[0]}\")\n",
        "            else:\n",
        "                print(f\"No Sundays found in {year}\")\n",
        "        except ValueError:\n",
        "            print(\"Invalid input. Please enter a valid year or type 'exit' to quit.\")\n",
        "\n",
        "if __name__ == \"__main__\":\n",
        "    main()\n"
      ]
    },
    {
      "cell_type": "markdown",
      "metadata": {
        "id": "55FWoSJPVVM6"
      },
      "source": [
        "(18) Build a program that calculates the factorial of a given positive integer. The factorial of a non-negative integer n is the product of all positive integers less than or equal to n."
      ]
    },
    {
      "cell_type": "code",
      "execution_count": 143,
      "metadata": {
        "id": "hwtr1wZmVX5A"
      },
      "outputs": [
        {
          "name": "stdout",
          "output_type": "stream",
          "text": [
            "The factorial of 8 is 40320\n"
          ]
        }
      ],
      "source": [
        "\n",
        "\n",
        "# Get input from the user\n",
        "num = int(input(\"Enter a positive number: \"))\n",
        "\n",
        "#a function to calculate the factorial\n",
        "def factorial(num):\n",
        "    p = 1  # Initialize a counter for the while loop\n",
        "    a = 1  # Initialize a variable to store the factorial value\n",
        "    \n",
        "   \n",
        "    while p <= num:\n",
        "        a = a * p  # Multiply 'a' by 'p' to accumulate factorial\n",
        "        p += 1     \n",
        "    \n",
        "    \n",
        "    if num == 0 or num == 1:\n",
        "        return 1  \n",
        "    else:\n",
        "        # Recursive approach to calculate factorial for num > 1\n",
        "        return num * factorial(num - 1)\n",
        "\n",
        "   \n",
        "    if num < 0:\n",
        "        print(\"There is no defined factorial for negative numbers\")\n",
        "\n",
        "\n",
        "result = factorial(num)\n",
        "\n",
        "\n",
        "print(f\"The factorial of {num} is {result}\")\n",
        "\n"
      ]
    },
    {
      "cell_type": "markdown",
      "metadata": {
        "id": "Q9ecagcaVazW"
      },
      "source": [
        "(19) Write a program that takes a positive integer n as input and prints the count of even numbers from 1 to n. Use a loop to iterate through the numbers and utilize the break statement to optimize the loop."
      ]
    },
    {
      "cell_type": "code",
      "execution_count": 131,
      "metadata": {
        "id": "gycgckoAVZjR"
      },
      "outputs": [
        {
          "name": "stdout",
          "output_type": "stream",
          "text": [
            "The count of even numbers is: 4\n"
          ]
        }
      ],
      "source": [
        "def count_even_numbers(n):\n",
        "    count = 0\n",
        "    for num in range(1, n + 1):\n",
        "        if num % 2 == 0:\n",
        "            count += 1\n",
        "        elif num > n:  # this will\n",
        "            break\n",
        "    return count\n",
        "\n",
        "# Get input from the user\n",
        "n = int(input(\"Enter a positive integer: \"))\n",
        "\n",
        "if n <= 0:\n",
        "    print(\"This is not a positive integer.\")\n",
        "else:\n",
        "    even_count = count_even_numbers(n)\n",
        "    print(f\"The count of even numbers is: {even_count}\")\n"
      ]
    },
    {
      "cell_type": "markdown",
      "metadata": {
        "id": "cboAr5pEWUf5"
      },
      "source": [
        "(20) Write a Python function called count_vowels that takes a string as input and returns the count of vowels (both lowercase and uppercase) present in the string. Consider the vowels to be 'a', 'e', 'i', 'o', and 'u'. Ignore spaces and other non-alphabetic characters."
      ]
    },
    {
      "cell_type": "code",
      "execution_count": 137,
      "metadata": {
        "id": "phs9gciMWWAW"
      },
      "outputs": [
        {
          "data": {
            "text/plain": [
              "'For the given string : hi macha                  vowel count is :3'"
            ]
          },
          "execution_count": 137,
          "metadata": {},
          "output_type": "execute_result"
        }
      ],
      "source": [
        "# write your answer here\n",
        "\n",
        "\n",
        "userstring = input('please enter your string:')\n",
        "\n",
        "def vowelcount(userstring):\n",
        "    p = \"aeiouAEIOU\"\n",
        "    pcount = 0\n",
        "    \n",
        "    for i in userstring:\n",
        "        if i in p:\n",
        "            pcount += 1\n",
        "    \n",
        "    return (\"For the given string : {}                  vowel count is :{}\".format(userstring, pcount))\n",
        "\n",
        "vowelcount(userstring)"
      ]
    }
  ],
  "metadata": {
    "colab": {
      "provenance": []
    },
    "kernelspec": {
      "display_name": "Python 3 (ipykernel)",
      "language": "python",
      "name": "python3"
    },
    "language_info": {
      "codemirror_mode": {
        "name": "ipython",
        "version": 3
      },
      "file_extension": ".py",
      "mimetype": "text/x-python",
      "name": "python",
      "nbconvert_exporter": "python",
      "pygments_lexer": "ipython3",
      "version": "3.11.5"
    }
  },
  "nbformat": 4,
  "nbformat_minor": 0
}
